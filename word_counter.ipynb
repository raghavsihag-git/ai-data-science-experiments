
# Simple Word Frequency Counter

# Function to count word frequency in a given text
def word_frequency(text):
    words = text.split()
    word_count = {}
    for word in words:
        word = word.lower()
        if word in word_count:
            word_count[word] += 1
        else:
            word_count[word] = 1
    return word_count

# Example Usage
text = "This is an example text with some example words"
result = word_frequency(text)
print(result)
