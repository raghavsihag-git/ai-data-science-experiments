
import pandas as pd
import matplotlib.pyplot as plt

# Loading sample COVID-19 data
df = pd.read_csv('sample_covid_data.csv')

# Data Overview
df.head()

# Plotting daily cases
plt.figure(figsize=(10,6))
plt.plot(df['date'], df['daily_cases'], label='Daily Cases')
plt.xlabel('Date')
plt.ylabel('Number of Cases')
plt.title('COVID-19 Daily Cases')
plt.xticks(rotation=45)
plt.legend()
plt.show()
